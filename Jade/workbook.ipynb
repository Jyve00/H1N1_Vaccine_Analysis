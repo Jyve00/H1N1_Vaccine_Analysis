{
 "cells": [
  {
   "cell_type": "code",
   "execution_count": 42,
   "metadata": {},
   "outputs": [
    {
     "name": "stdout",
     "output_type": "stream",
     "text": [
      "Index(['h1n1_concern', 'h1n1_knowledge', 'behavioral_antiviral_meds',\n",
      "       'behavioral_avoidance', 'behavioral_face_mask', 'behavioral_wash_hands',\n",
      "       'behavioral_large_gatherings', 'behavioral_outside_home',\n",
      "       'behavioral_touch_face', 'doctor_recc_h1n1', 'doctor_recc_seasonal',\n",
      "       'chronic_med_condition', 'child_under_6_months', 'health_worker',\n",
      "       'health_insurance', 'opinion_h1n1_vacc_effective', 'opinion_h1n1_risk',\n",
      "       'opinion_h1n1_sick_from_vacc', 'opinion_seas_vacc_effective',\n",
      "       'opinion_seas_risk', 'opinion_seas_sick_from_vacc', 'age_group',\n",
      "       'education', 'race', 'sex', 'income_poverty', 'marital_status',\n",
      "       'rent_or_own', 'employment_status', 'hhs_geo_region', 'census_msa',\n",
      "       'household_adults', 'household_children', 'employment_industry',\n",
      "       'employment_occupation', 'h1n1_vaccine', 'seasonal_vaccine'],\n",
      "      dtype='object')\n"
     ]
    }
   ],
   "source": [
    "#import libraries\n",
    "\n",
    "import pandas as pd\n",
    "import numpy as np\n",
    "\n",
    "from sklearn.preprocessing import StandardScaler\n",
    "from sklearn.neighbors import KNeighborsClassifier\n",
    "from sklearn.model_selection import cross_val_score, train_test_split, GridSearchCV\n",
    "from sklearn.linear_model import LogisticRegression\n",
    "from sklearn.ensemble import RandomForestClassifier, BaggingTreeClassifier\n",
    "from sklearn.pipeline import Pipeline\n",
    "from sklearn.tree import DecisionTreeClassifier\n",
    "from sklearn.metrics import accuracy_score, f1_score, precision_score, recall_score, r2_score,roc_auc_score\n",
    "\n",
    "import matplotlib.pyplot as plt\n",
    "\n",
    "\n",
    "#read in data\n",
    "data = pd.read_csv('../Data/training_set_features.csv',index_col = 'respondent_id')\n",
    "#read target\n",
    "target = pd.read_csv('../Data/training_set_labels.csv',index_col = 'respondent_id')\n",
    "\n",
    "#merge into df\n",
    "df = pd.concat([data,target])\n",
    "print(df.columns)\n"
   ]
  },
  {
   "cell_type": "code",
   "execution_count": 3,
   "metadata": {},
   "outputs": [
    {
     "name": "stdout",
     "output_type": "stream",
     "text": [
      "<class 'pandas.core.frame.DataFrame'>\n",
      "Int64Index: 53414 entries, 0 to 26706\n",
      "Data columns (total 29 columns):\n",
      " #   Column                       Non-Null Count  Dtype  \n",
      "---  ------                       --------------  -----  \n",
      " 0   h1n1_concern                 26615 non-null  float64\n",
      " 1   h1n1_knowledge               26591 non-null  float64\n",
      " 2   behavioral_antiviral_meds    26636 non-null  float64\n",
      " 3   behavioral_avoidance         26499 non-null  float64\n",
      " 4   behavioral_face_mask         26688 non-null  float64\n",
      " 5   behavioral_wash_hands        26665 non-null  float64\n",
      " 6   behavioral_large_gatherings  26620 non-null  float64\n",
      " 7   behavioral_outside_home      26625 non-null  float64\n",
      " 8   behavioral_touch_face        26579 non-null  float64\n",
      " 9   doctor_recc_h1n1             24547 non-null  float64\n",
      " 10  doctor_recc_seasonal         24547 non-null  float64\n",
      " 11  chronic_med_condition        25736 non-null  float64\n",
      " 12  child_under_6_months         25887 non-null  float64\n",
      " 13  health_worker                25903 non-null  float64\n",
      " 14  health_insurance             14433 non-null  float64\n",
      " 15  opinion_h1n1_vacc_effective  26316 non-null  float64\n",
      " 16  opinion_h1n1_risk            26319 non-null  float64\n",
      " 17  opinion_h1n1_sick_from_vacc  26312 non-null  float64\n",
      " 18  age_group                    26707 non-null  object \n",
      " 19  education                    25300 non-null  object \n",
      " 20  race                         26707 non-null  object \n",
      " 21  sex                          26707 non-null  object \n",
      " 22  income_poverty               22284 non-null  object \n",
      " 23  marital_status               25299 non-null  object \n",
      " 24  rent_or_own                  24665 non-null  object \n",
      " 25  employment_status            25244 non-null  object \n",
      " 26  household_adults             26458 non-null  float64\n",
      " 27  household_children           26458 non-null  float64\n",
      " 28  h1n1_vaccine                 26707 non-null  float64\n",
      "dtypes: float64(21), object(8)\n",
      "memory usage: 12.2+ MB\n"
     ]
    }
   ],
   "source": [
    "#select h1n1 target, drop seasonal vaccine columns, drop irrelevant columns\n",
    "\n",
    "\n",
    "drop_cols = ['opinion_seas_vacc_effective','opinion_seas_risk','opinion_seas_sick_from_vacc','hhs_geo_region',\n",
    "            'employment_industry','employment_occupation','census_msa','seasonal_vaccine']\n",
    "\n",
    "df.drop(labels= drop_cols, axis=1,inplace=True)\n",
    "\n",
    "df.info()\n"
   ]
  },
  {
   "cell_type": "code",
   "execution_count": 4,
   "metadata": {},
   "outputs": [
    {
     "data": {
      "text/plain": [
       "h1n1_vaccine\n",
       "0.0             21033\n",
       "1.0              5674\n",
       "dtype: int64"
      ]
     },
     "execution_count": 4,
     "metadata": {},
     "output_type": "execute_result"
    }
   ],
   "source": [
    "#investigate target imbalance\n",
    "\n",
    "df['h1n1_vaccine'].value_counts()\n",
    "\n",
    "df['h1n1_vaccine'].isna().value_counts()\n",
    "\n",
    "\n",
    "# split target off from data set\n",
    "target = pd.DataFrame(df['h1n1_vaccine'])\n",
    "\n",
    "target.value_counts()"
   ]
  },
  {
   "cell_type": "code",
   "execution_count": 5,
   "metadata": {},
   "outputs": [
    {
     "name": "stdout",
     "output_type": "stream",
     "text": [
      "1.0    12697\n",
      "0.0     1736\n",
      "Name: health_insurance, dtype: int64\n",
      "College Graduate    10097\n",
      "Some College         7043\n",
      "12 Years             5797\n",
      "< 12 Years           2363\n",
      "Name: education, dtype: int64\n"
     ]
    }
   ],
   "source": [
    "#investigate categorical vars\n",
    "print(df['health_insurance'].value_counts())\n",
    "print(df['education'].value_counts())"
   ]
  },
  {
   "cell_type": "code",
   "execution_count": 10,
   "metadata": {},
   "outputs": [
    {
     "name": "stdout",
     "output_type": "stream",
     "text": [
      "<class 'pandas.core.frame.DataFrame'>\n",
      "Int64Index: 53414 entries, 0 to 26706\n",
      "Data columns (total 29 columns):\n",
      " #   Column                       Non-Null Count  Dtype  \n",
      "---  ------                       --------------  -----  \n",
      " 0   h1n1_concern                 26615 non-null  float64\n",
      " 1   h1n1_knowledge               26591 non-null  float64\n",
      " 2   behavioral_antiviral_meds    26636 non-null  float64\n",
      " 3   behavioral_avoidance         26499 non-null  float64\n",
      " 4   behavioral_face_mask         26688 non-null  float64\n",
      " 5   behavioral_wash_hands        26665 non-null  float64\n",
      " 6   behavioral_large_gatherings  26620 non-null  float64\n",
      " 7   behavioral_outside_home      26625 non-null  float64\n",
      " 8   behavioral_touch_face        26579 non-null  float64\n",
      " 9   doctor_recc_h1n1             24547 non-null  float64\n",
      " 10  doctor_recc_seasonal         24547 non-null  float64\n",
      " 11  chronic_med_condition        25736 non-null  float64\n",
      " 12  child_under_6_months         25887 non-null  float64\n",
      " 13  health_worker                25903 non-null  float64\n",
      " 14  health_insurance             14433 non-null  float64\n",
      " 15  opinion_h1n1_vacc_effective  26316 non-null  float64\n",
      " 16  opinion_h1n1_risk            26319 non-null  float64\n",
      " 17  opinion_h1n1_sick_from_vacc  26312 non-null  float64\n",
      " 18  age_group                    26707 non-null  object \n",
      " 19  education                    25300 non-null  object \n",
      " 20  race                         26707 non-null  object \n",
      " 21  sex                          26707 non-null  object \n",
      " 22  income_poverty               22284 non-null  object \n",
      " 23  marital_status               25299 non-null  object \n",
      " 24  rent_or_own                  24665 non-null  object \n",
      " 25  employment_status            25244 non-null  object \n",
      " 26  household_adults             26458 non-null  float64\n",
      " 27  household_children           26458 non-null  float64\n",
      " 28  h1n1_vaccine                 26707 non-null  float64\n",
      "dtypes: float64(21), object(8)\n",
      "memory usage: 13.5+ MB\n",
      "<class 'pandas.core.frame.DataFrame'>\n",
      "Int64Index: 11802 entries, 0 to 26706\n",
      "Data columns (total 28 columns):\n",
      " #   Column                       Non-Null Count  Dtype  \n",
      "---  ------                       --------------  -----  \n",
      " 0   h1n1_concern                 11802 non-null  float64\n",
      " 1   h1n1_knowledge               11802 non-null  float64\n",
      " 2   behavioral_antiviral_meds    11802 non-null  float64\n",
      " 3   behavioral_avoidance         11802 non-null  float64\n",
      " 4   behavioral_face_mask         11802 non-null  float64\n",
      " 5   behavioral_wash_hands        11802 non-null  float64\n",
      " 6   behavioral_large_gatherings  11802 non-null  float64\n",
      " 7   behavioral_outside_home      11802 non-null  float64\n",
      " 8   behavioral_touch_face        11802 non-null  float64\n",
      " 9   doctor_recc_h1n1             11802 non-null  float64\n",
      " 10  doctor_recc_seasonal         11802 non-null  float64\n",
      " 11  chronic_med_condition        11802 non-null  float64\n",
      " 12  child_under_6_months         11802 non-null  float64\n",
      " 13  health_worker                11802 non-null  float64\n",
      " 14  health_insurance             11802 non-null  float64\n",
      " 15  opinion_h1n1_vacc_effective  11802 non-null  float64\n",
      " 16  opinion_h1n1_risk            11802 non-null  float64\n",
      " 17  opinion_h1n1_sick_from_vacc  11802 non-null  float64\n",
      " 18  age_group                    11802 non-null  object \n",
      " 19  education                    11802 non-null  object \n",
      " 20  race                         11802 non-null  object \n",
      " 21  sex                          11802 non-null  object \n",
      " 22  income_poverty               11802 non-null  object \n",
      " 23  marital_status               11802 non-null  object \n",
      " 24  rent_or_own                  11802 non-null  object \n",
      " 25  employment_status            11802 non-null  object \n",
      " 26  household_adults             11802 non-null  float64\n",
      " 27  household_children           11802 non-null  float64\n",
      "dtypes: float64(20), object(8)\n",
      "memory usage: 2.6+ MB\n"
     ]
    }
   ],
   "source": [
    "#drop target from df\n",
    "df.info()\n",
    "\n",
    "data = df.drop('h1n1_vaccine',axis=1, inplace=False)\n",
    "\n",
    "#drop all rows with any NaN values\n",
    "\n",
    "data.dropna(inplace=True)\n",
    "data.info()"
   ]
  },
  {
   "cell_type": "code",
   "execution_count": 15,
   "metadata": {},
   "outputs": [
    {
     "name": "stdout",
     "output_type": "stream",
     "text": [
      "<class 'pandas.core.frame.DataFrame'>\n",
      "Int64Index: 11802 entries, 0 to 26706\n",
      "Data columns (total 45 columns):\n",
      " #   Column                                    Non-Null Count  Dtype  \n",
      "---  ------                                    --------------  -----  \n",
      " 0   h1n1_concern                              11802 non-null  float64\n",
      " 1   h1n1_knowledge                            11802 non-null  float64\n",
      " 2   behavioral_antiviral_meds                 11802 non-null  float64\n",
      " 3   behavioral_avoidance                      11802 non-null  float64\n",
      " 4   behavioral_face_mask                      11802 non-null  float64\n",
      " 5   behavioral_wash_hands                     11802 non-null  float64\n",
      " 6   behavioral_large_gatherings               11802 non-null  float64\n",
      " 7   behavioral_outside_home                   11802 non-null  float64\n",
      " 8   behavioral_touch_face                     11802 non-null  float64\n",
      " 9   doctor_recc_h1n1                          11802 non-null  float64\n",
      " 10  doctor_recc_seasonal                      11802 non-null  float64\n",
      " 11  chronic_med_condition                     11802 non-null  float64\n",
      " 12  child_under_6_months                      11802 non-null  float64\n",
      " 13  health_worker                             11802 non-null  float64\n",
      " 14  health_insurance                          11802 non-null  float64\n",
      " 15  opinion_h1n1_vacc_effective               11802 non-null  float64\n",
      " 16  opinion_h1n1_risk                         11802 non-null  float64\n",
      " 17  opinion_h1n1_sick_from_vacc               11802 non-null  float64\n",
      " 18  household_adults                          11802 non-null  float64\n",
      " 19  household_children                        11802 non-null  float64\n",
      " 20  age_group_18 - 34 Years                   11802 non-null  uint8  \n",
      " 21  age_group_35 - 44 Years                   11802 non-null  uint8  \n",
      " 22  age_group_45 - 54 Years                   11802 non-null  uint8  \n",
      " 23  age_group_55 - 64 Years                   11802 non-null  uint8  \n",
      " 24  age_group_65+ Years                       11802 non-null  uint8  \n",
      " 25  education_12 Years                        11802 non-null  uint8  \n",
      " 26  education_< 12 Years                      11802 non-null  uint8  \n",
      " 27  education_College Graduate                11802 non-null  uint8  \n",
      " 28  education_Some College                    11802 non-null  uint8  \n",
      " 29  race_Black                                11802 non-null  uint8  \n",
      " 30  race_Hispanic                             11802 non-null  uint8  \n",
      " 31  race_Other or Multiple                    11802 non-null  uint8  \n",
      " 32  race_White                                11802 non-null  uint8  \n",
      " 33  sex_Female                                11802 non-null  uint8  \n",
      " 34  sex_Male                                  11802 non-null  uint8  \n",
      " 35  income_poverty_<= $75,000, Above Poverty  11802 non-null  uint8  \n",
      " 36  income_poverty_> $75,000                  11802 non-null  uint8  \n",
      " 37  income_poverty_Below Poverty              11802 non-null  uint8  \n",
      " 38  marital_status_Married                    11802 non-null  uint8  \n",
      " 39  marital_status_Not Married                11802 non-null  uint8  \n",
      " 40  rent_or_own_Own                           11802 non-null  uint8  \n",
      " 41  rent_or_own_Rent                          11802 non-null  uint8  \n",
      " 42  employment_status_Employed                11802 non-null  uint8  \n",
      " 43  employment_status_Not in Labor Force      11802 non-null  uint8  \n",
      " 44  employment_status_Unemployed              11802 non-null  uint8  \n",
      "dtypes: float64(20), uint8(25)\n",
      "memory usage: 2.2 MB\n"
     ]
    }
   ],
   "source": [
    "\n",
    "#modify object columns into dummies\n",
    "data = pd.get_dummies(data)\n",
    "\n",
    "\n",
    "data.info()\n"
   ]
  },
  {
   "cell_type": "code",
   "execution_count": 46,
   "metadata": {},
   "outputs": [],
   "source": [
    "#merge back to match indices & size\n",
    "\n",
    "merge_df = data.merge(target,how='left',on='respondent_id')\n",
    "\n",
    "\n",
    "\n",
    "merge_df.dropna(inplace=True)\n",
    "\n",
    "merge_df.describe()\n",
    "\n",
    "#split back into X,y\n",
    "\n",
    "y = merge_df['h1n1_vaccine']\n",
    "X = merge_df.drop('h1n1_vaccine',axis=1,inplace=False)"
   ]
  },
  {
   "cell_type": "code",
   "execution_count": 28,
   "metadata": {},
   "outputs": [
    {
     "data": {
      "text/plain": [
       "DecisionTreeClassifier()"
      ]
     },
     "execution_count": 28,
     "metadata": {},
     "output_type": "execute_result"
    }
   ],
   "source": [
    "X_train, X_test, y_train, y_test = train_test_split(X,y,test_size=.25)\n",
    "\n",
    "#instantiate default DecisionTreeClassifier\n",
    "\n",
    "initial_tree = DecisionTreeClassifier()\n",
    "\n",
    "\n",
    "#fit to train\n",
    "\n",
    "initial_tree.fit(X_train,y_train)"
   ]
  },
  {
   "cell_type": "code",
   "execution_count": 34,
   "metadata": {},
   "outputs": [
    {
     "data": {
      "image/png": "[encoded data removed]",
      "text/plain": [
       "<Figure size 576x576 with 1 Axes>"
      ]
     },
     "metadata": {
      "needs_background": "light"
     },
     "output_type": "display_data"
    }
   ],
   "source": [
    "#test feature importance\n",
    "\n",
    "def plot_feature_importances(model):\n",
    "    n_features = X_train.shape[1]\n",
    "    plt.figure(figsize=(8,8))\n",
    "    plt.barh(range(n_features), model.feature_importances_, align='center') \n",
    "    plt.yticks(np.arange(n_features), X_train.columns.values) \n",
    "    plt.xlabel('Feature importance')\n",
    "    plt.ylabel('Feature')\n",
    "\n",
    "plot_feature_importances(initial_tree)\n",
    "\n",
    "\n",
    "#citation: tree lab"
   ]
  },
  {
   "cell_type": "code",
   "execution_count": 44,
   "metadata": {},
   "outputs": [
    {
     "name": "stdout",
     "output_type": "stream",
     "text": [
      "initial_dc_tree_score: 0.7173839376482548\n",
      "5 fold cross val for initial dc model: [0.71283355 0.72850487 0.72923729 0.7309322  0.725     ]\n"
     ]
    }
   ],
   "source": [
    "#initial tree scores\n",
    "\n",
    "initial_dc_tree_score = initial_tree.score(X_test,y_test)\n",
    "print('initial_dc_tree_score:', initial_dc_tree_score)\n",
    "\n",
    "\n",
    "#cross val score\n",
    "\n",
    "cv_initial_tree = cross_val_score(initial_tree,X,y)\n",
    "\n",
    "print(\"5 fold cross val for initial dc model:\", cv_initial_tree)"
   ]
  },
  {
   "cell_type": "code",
   "execution_count": 45,
   "metadata": {},
   "outputs": [
    {
     "name": "stdout",
     "output_type": "stream",
     "text": [
      "initial logistic regression score:  0.8085394781430024\n",
      "5 fold cross val for initial logreg model: [0.82507412 0.81321474 0.82076271 0.82457627 0.81101695]\n"
     ]
    }
   ],
   "source": [
    "#assess default logistic regression model\n",
    "\n",
    "initial_logreg = LogisticRegression(max_iter=1000)\n",
    "\n",
    "\n",
    "#default max_iter = 100 does not converge\n",
    "initial_logreg.fit(X_train,y_train)\n",
    "\n",
    "initial_logreg_score = initial_logreg.score(X_test,y_test)\n",
    "\n",
    "cv_initial_logreg = cross_val_score(initial_logreg,X,y)\n",
    "\n",
    "print(\"initial logistic regression score: \", initial_logreg_score)\n",
    "\n",
    "print(\"5 fold cross val for initial logreg model:\", cv_initial_logreg)"
   ]
  },
  {
   "cell_type": "code",
   "execution_count": null,
   "metadata": {},
   "outputs": [],
   "source": [
    "#bagging tree classifier\n",
    "\n"
   ]
  }
 ],
 "metadata": {
  "kernelspec": {
   "display_name": "Python (learn-env)",
   "language": "python",
   "name": "learn-env"
  },
  "language_info": {
   "codemirror_mode": {
    "name": "ipython",
    "version": 3
   },
   "file_extension": ".py",
   "mimetype": "text/x-python",
   "name": "python",
   "nbconvert_exporter": "python",
   "pygments_lexer": "ipython3",
   "version": "3.8.5"
  }
 },
 "nbformat": 4,
 "nbformat_minor": 4
}
