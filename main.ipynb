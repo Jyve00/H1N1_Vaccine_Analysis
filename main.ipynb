{
 "cells": [
  {
   "cell_type": "markdown",
   "metadata": {},
   "source": [
    "# Project Title"
   ]
  },
  {
   "cell_type": "markdown",
   "metadata": {},
   "source": [
    "## Overview\n",
    "\n",
    "\n",
    "\n",
    "To find potential factors in vaccine hesistancy in the COVID-19 pandemic, we used a dataset of characteristics of people who either got the H1N1 or didn't. We tested different machine learning models on the dataset for prediction accuracy and ended up choosing a ____ model.  \n",
    "\n",
    "## Business Problem\n",
    "\n",
    "\n",
    "The CDC has hired us as data scientists to find lessons from the H1N1 pandemic. Early into the vaccine rollout, there has been massive public skepticism of the vaccine, slowing our ability to overcome the virus and re-open the country.\n",
    "\n",
    "We have received a large dataset from 2009, with statistical information and pandemic/H1N1 scaled opinions for each respondent. This data includes whether each person was vaccinated or not, which will allow us to predict who gets the vaccine.\n",
    "\n",
    "This model will allow the CDC to determine investments in public health awareness, surveying and modelling during the pandemic, based on the parameters which impact an individuals vaccine choice the most. \n",
    "\n"
   ]
  },
  {
   "cell_type": "markdown",
   "metadata": {},
   "source": [
    "## Data Understanding\n",
    "\n",
    "The dataset includes 26,000 respondents responses, and includes 34 different characteristics. They provide demographic information such as age, sex, race, income, and education and also include opinion and knowledge assessment on the risk of the H1N1 virus. \n",
    "\n",
    "The data can be found at https://www.drivendata.org/competitions/66/flu-shot-learning/ \n",
    "\n",
    "\n",
    "The target variable is the 'h1n1 vaccine' column. It is binary: 0 means the respondent didn't get the vaccine and 1 means they did. \n",
    "\n",
    "One things we are going to try to reduce is the prediction of False Negatives where the model predicted someone didn't get the H1N1 Vaccine but they actually in truth did recieve the vaccine. False positives or when the model predics someone getting the vaccine but in reallity did not recieve a H1N1 vaccine. Having too many False Negatives or False Positives could render our predictive model useless for targeting Vaccine hesitence. "
   ]
  },
  {
   "cell_type": "code",
   "execution_count": 1,
   "metadata": {},
   "outputs": [
    {
     "name": "stdout",
     "output_type": "stream",
     "text": [
      "<class 'pandas.core.frame.DataFrame'>\n",
      "Int64Index: 26707 entries, 0 to 26706\n",
      "Data columns (total 35 columns):\n",
      " #   Column                       Non-Null Count  Dtype  \n",
      "---  ------                       --------------  -----  \n",
      " 0   h1n1_concern                 26615 non-null  float64\n",
      " 1   h1n1_knowledge               26591 non-null  float64\n",
      " 2   behavioral_antiviral_meds    26636 non-null  float64\n",
      " 3   behavioral_avoidance         26499 non-null  float64\n",
      " 4   behavioral_face_mask         26688 non-null  float64\n",
      " 5   behavioral_wash_hands        26665 non-null  float64\n",
      " 6   behavioral_large_gatherings  26620 non-null  float64\n",
      " 7   behavioral_outside_home      26625 non-null  float64\n",
      " 8   behavioral_touch_face        26579 non-null  float64\n",
      " 9   doctor_recc_h1n1             24547 non-null  float64\n",
      " 10  doctor_recc_seasonal         24547 non-null  float64\n",
      " 11  chronic_med_condition        25736 non-null  float64\n",
      " 12  child_under_6_months         25887 non-null  float64\n",
      " 13  health_worker                25903 non-null  float64\n",
      " 14  health_insurance             14433 non-null  float64\n",
      " 15  opinion_h1n1_vacc_effective  26316 non-null  float64\n",
      " 16  opinion_h1n1_risk            26319 non-null  float64\n",
      " 17  opinion_h1n1_sick_from_vacc  26312 non-null  float64\n",
      " 18  opinion_seas_vacc_effective  26245 non-null  float64\n",
      " 19  opinion_seas_risk            26193 non-null  float64\n",
      " 20  opinion_seas_sick_from_vacc  26170 non-null  float64\n",
      " 21  age_group                    26707 non-null  object \n",
      " 22  education                    25300 non-null  object \n",
      " 23  race                         26707 non-null  object \n",
      " 24  sex                          26707 non-null  object \n",
      " 25  income_poverty               22284 non-null  object \n",
      " 26  marital_status               25299 non-null  object \n",
      " 27  rent_or_own                  24665 non-null  object \n",
      " 28  employment_status            25244 non-null  object \n",
      " 29  hhs_geo_region               26707 non-null  object \n",
      " 30  census_msa                   26707 non-null  object \n",
      " 31  household_adults             26458 non-null  float64\n",
      " 32  household_children           26458 non-null  float64\n",
      " 33  employment_industry          13377 non-null  object \n",
      " 34  employment_occupation        13237 non-null  object \n",
      "dtypes: float64(23), object(12)\n",
      "memory usage: 7.3+ MB\n"
     ]
    }
   ],
   "source": [
    "# We'll import the dataframe with Pandas. \n",
    "import numpy as np\n",
    "import pandas as pd\n",
    "\n",
    "data = pd.read_csv('Data/training_set_features.csv', index_col='respondent_id')       # Included only columns we want to use as features for our model\n",
    "target = pd.read_csv('Data/training_set_labels.csv', index_col='respondent_id')       # Target Columns\n",
    "holdout_set = pd.read_csv('Data/test_set_features.csv', index_col='respondent_id')    # A data frame that will remain untouched in order to test final model \n",
    "\n",
    "# Take a quick look at\n",
    "data.info()"
   ]
  },
  {
   "cell_type": "markdown",
   "metadata": {},
   "source": [
    "## Data Preparation\n",
    "\n",
    "Describe and justify the process for preparing the data for analysis.\n",
    "\n",
    "As the dataset also includes information on whether the respondent got the seasonal flu vaccine and their scaled opinions on the seasonal vaccine, we decided to drop all data and focus on h1n1-related data for model simplicity.\n",
    "\n",
    "We then decided to drop the health insurance column as there were many null values, and in initial data modelling our model was much more accurate with it gone.\n",
    "\n",
    "The data left is a combination of ordinal (>2 non-continuous) and binary variables, both in string and number format. We converted all string data to integers, i.e. 'Male' and 'Female' in the 'sex' column converted to 0 and 1, respectively.\n",
    "\n",
    "For remaining missing values in columns, we filled in the mode of the dataset. \n"
   ]
  },
  {
   "cell_type": "code",
   "execution_count": 2,
   "metadata": {},
   "outputs": [
    {
     "data": {
      "text/plain": [
       "Text(0, 0.5, 'h1n1_vaccine')"
      ]
     },
     "execution_count": 2,
     "metadata": {},
     "output_type": "execute_result"
    },
    {
     "data": {
      "image/png": "[encoded data removed]",
      "text/plain": [
       "<Figure size 432x288 with 1 Axes>"
      ]
     },
     "metadata": {
      "needs_background": "light"
     },
     "output_type": "display_data"
    }
   ],
   "source": [
    "# Dropping all columns that are related to the seasonal flue target\n",
    "data.drop(columns=[\n",
    "    'hhs_geo_region',\n",
    "    'census_msa', \n",
    "    'employment_industry', \n",
    "    'employment_occupation', \n",
    "    'opinion_seas_vacc_effective', \n",
    "    'opinion_seas_risk', \n",
    "    'opinion_seas_sick_from_vacc', \n",
    "    'health_insurance', \n",
    "    'doctor_recc_seasonal'], inplace=True)\n",
    "\n",
    "# We only need the 'h1n1_vaccine' column as our target variable so we'll turn it into a panda series with just that column. \n",
    "target = pd.Series(target['h1n1_vaccine'])\n",
    "\n",
    "# Visualize the target variable\n",
    "import matplotlib.pyplot as plt\n",
    "fig, ax = plt.subplots()\n",
    "target.value_counts().plot.barh(title=\"Proportion of H1N1 Vaccine\", ax=ax)\n",
    "ax.set_ylabel(\"h1n1_vaccine\")\n",
    "\n"
   ]
  },
  {
   "cell_type": "code",
   "execution_count": 3,
   "metadata": {},
   "outputs": [
    {
     "data": {
      "text/plain": [
       "0    0.787546\n",
       "1    0.212454\n",
       "Name: h1n1_vaccine, dtype: float64"
      ]
     },
     "execution_count": 3,
     "metadata": {},
     "output_type": "execute_result"
    }
   ],
   "source": [
    "# inspect the values \n",
    "target.value_counts(normalize=True)"
   ]
  },
  {
   "cell_type": "markdown",
   "metadata": {},
   "source": [
    "## Baseline Model\n",
    "\n",
    "We examined how accurately a decision tree-based model would be able to determine if someone got vaccinated or not based on their characteristics.\n",
    "\n",
    "In this case we dropped rows with missing values and used pd.get_dummies to split up the ordinal variables with 3 or more values."
   ]
  },
  {
   "cell_type": "code",
   "execution_count": 80,
   "metadata": {},
   "outputs": [
    {
     "ename": "KeyError",
     "evalue": "\"['education', 'income_poverty', 'employment_status', 'age_group'] not in index\"",
     "output_type": "error",
     "traceback": [
      "\u001b[0;31m---------------------------------------------------------------------------\u001b[0m",
      "\u001b[0;31mKeyError\u001b[0m                                  Traceback (most recent call last)",
      "\u001b[0;32m<ipython-input-80-48d3dc3d6642>\u001b[0m in \u001b[0;36m<module>\u001b[0;34m\u001b[0m\n\u001b[1;32m      1\u001b[0m \u001b[0;31m#convert all object columns to dummies\u001b[0m\u001b[0;34m\u001b[0m\u001b[0;34m\u001b[0m\u001b[0;34m\u001b[0m\u001b[0m\n\u001b[1;32m      2\u001b[0m \u001b[0mfeatures\u001b[0m \u001b[0;34m=\u001b[0m \u001b[0mdata\u001b[0m\u001b[0;34m\u001b[0m\u001b[0;34m\u001b[0m\u001b[0m\n\u001b[0;32m----> 3\u001b[0;31m \u001b[0mfeatures\u001b[0m \u001b[0;34m=\u001b[0m \u001b[0mpd\u001b[0m\u001b[0;34m.\u001b[0m\u001b[0mget_dummies\u001b[0m\u001b[0;34m(\u001b[0m\u001b[0mfeatures\u001b[0m\u001b[0;34m,\u001b[0m\u001b[0mcolumns\u001b[0m \u001b[0;34m=\u001b[0m \u001b[0;34m[\u001b[0m\u001b[0;34m'employment_status'\u001b[0m\u001b[0;34m,\u001b[0m\u001b[0;34m'age_group'\u001b[0m\u001b[0;34m,\u001b[0m\u001b[0;34m'education'\u001b[0m\u001b[0;34m,\u001b[0m\u001b[0;34m'race'\u001b[0m\u001b[0;34m,\u001b[0m\u001b[0;34m'income_poverty'\u001b[0m\u001b[0;34m]\u001b[0m\u001b[0;34m)\u001b[0m\u001b[0;34m\u001b[0m\u001b[0;34m\u001b[0m\u001b[0m\n\u001b[0m\u001b[1;32m      4\u001b[0m \u001b[0;34m\u001b[0m\u001b[0m\n\u001b[1;32m      5\u001b[0m \u001b[0;34m\u001b[0m\u001b[0m\n",
      "\u001b[0;32m~/opt/anaconda3/envs/learn-env/lib/python3.8/site-packages/pandas/core/reshape/reshape.py\u001b[0m in \u001b[0;36mget_dummies\u001b[0;34m(data, prefix, prefix_sep, dummy_na, columns, sparse, drop_first, dtype)\u001b[0m\n\u001b[1;32m    841\u001b[0m             \u001b[0;32mraise\u001b[0m \u001b[0mTypeError\u001b[0m\u001b[0;34m(\u001b[0m\u001b[0;34m\"Input must be a list-like for parameter `columns`\"\u001b[0m\u001b[0;34m)\u001b[0m\u001b[0;34m\u001b[0m\u001b[0;34m\u001b[0m\u001b[0m\n\u001b[1;32m    842\u001b[0m         \u001b[0;32melse\u001b[0m\u001b[0;34m:\u001b[0m\u001b[0;34m\u001b[0m\u001b[0;34m\u001b[0m\u001b[0m\n\u001b[0;32m--> 843\u001b[0;31m             \u001b[0mdata_to_encode\u001b[0m \u001b[0;34m=\u001b[0m \u001b[0mdata\u001b[0m\u001b[0;34m[\u001b[0m\u001b[0mcolumns\u001b[0m\u001b[0;34m]\u001b[0m\u001b[0;34m\u001b[0m\u001b[0;34m\u001b[0m\u001b[0m\n\u001b[0m\u001b[1;32m    844\u001b[0m \u001b[0;34m\u001b[0m\u001b[0m\n\u001b[1;32m    845\u001b[0m         \u001b[0;31m# validate prefixes and separator to avoid silently dropping cols\u001b[0m\u001b[0;34m\u001b[0m\u001b[0;34m\u001b[0m\u001b[0;34m\u001b[0m\u001b[0m\n",
      "\u001b[0;32m~/opt/anaconda3/envs/learn-env/lib/python3.8/site-packages/pandas/core/frame.py\u001b[0m in \u001b[0;36m__getitem__\u001b[0;34m(self, key)\u001b[0m\n\u001b[1;32m   2906\u001b[0m             \u001b[0;32mif\u001b[0m \u001b[0mis_iterator\u001b[0m\u001b[0;34m(\u001b[0m\u001b[0mkey\u001b[0m\u001b[0;34m)\u001b[0m\u001b[0;34m:\u001b[0m\u001b[0;34m\u001b[0m\u001b[0;34m\u001b[0m\u001b[0m\n\u001b[1;32m   2907\u001b[0m                 \u001b[0mkey\u001b[0m \u001b[0;34m=\u001b[0m \u001b[0mlist\u001b[0m\u001b[0;34m(\u001b[0m\u001b[0mkey\u001b[0m\u001b[0;34m)\u001b[0m\u001b[0;34m\u001b[0m\u001b[0;34m\u001b[0m\u001b[0m\n\u001b[0;32m-> 2908\u001b[0;31m             \u001b[0mindexer\u001b[0m \u001b[0;34m=\u001b[0m \u001b[0mself\u001b[0m\u001b[0;34m.\u001b[0m\u001b[0mloc\u001b[0m\u001b[0;34m.\u001b[0m\u001b[0m_get_listlike_indexer\u001b[0m\u001b[0;34m(\u001b[0m\u001b[0mkey\u001b[0m\u001b[0;34m,\u001b[0m \u001b[0maxis\u001b[0m\u001b[0;34m=\u001b[0m\u001b[0;36m1\u001b[0m\u001b[0;34m,\u001b[0m \u001b[0mraise_missing\u001b[0m\u001b[0;34m=\u001b[0m\u001b[0;32mTrue\u001b[0m\u001b[0;34m)\u001b[0m\u001b[0;34m[\u001b[0m\u001b[0;36m1\u001b[0m\u001b[0;34m]\u001b[0m\u001b[0;34m\u001b[0m\u001b[0;34m\u001b[0m\u001b[0m\n\u001b[0m\u001b[1;32m   2909\u001b[0m \u001b[0;34m\u001b[0m\u001b[0m\n\u001b[1;32m   2910\u001b[0m         \u001b[0;31m# take() does not accept boolean indexers\u001b[0m\u001b[0;34m\u001b[0m\u001b[0;34m\u001b[0m\u001b[0;34m\u001b[0m\u001b[0m\n",
      "\u001b[0;32m~/opt/anaconda3/envs/learn-env/lib/python3.8/site-packages/pandas/core/indexing.py\u001b[0m in \u001b[0;36m_get_listlike_indexer\u001b[0;34m(self, key, axis, raise_missing)\u001b[0m\n\u001b[1;32m   1252\u001b[0m             \u001b[0mkeyarr\u001b[0m\u001b[0;34m,\u001b[0m \u001b[0mindexer\u001b[0m\u001b[0;34m,\u001b[0m \u001b[0mnew_indexer\u001b[0m \u001b[0;34m=\u001b[0m \u001b[0max\u001b[0m\u001b[0;34m.\u001b[0m\u001b[0m_reindex_non_unique\u001b[0m\u001b[0;34m(\u001b[0m\u001b[0mkeyarr\u001b[0m\u001b[0;34m)\u001b[0m\u001b[0;34m\u001b[0m\u001b[0;34m\u001b[0m\u001b[0m\n\u001b[1;32m   1253\u001b[0m \u001b[0;34m\u001b[0m\u001b[0m\n\u001b[0;32m-> 1254\u001b[0;31m         \u001b[0mself\u001b[0m\u001b[0;34m.\u001b[0m\u001b[0m_validate_read_indexer\u001b[0m\u001b[0;34m(\u001b[0m\u001b[0mkeyarr\u001b[0m\u001b[0;34m,\u001b[0m \u001b[0mindexer\u001b[0m\u001b[0;34m,\u001b[0m \u001b[0maxis\u001b[0m\u001b[0;34m,\u001b[0m \u001b[0mraise_missing\u001b[0m\u001b[0;34m=\u001b[0m\u001b[0mraise_missing\u001b[0m\u001b[0;34m)\u001b[0m\u001b[0;34m\u001b[0m\u001b[0;34m\u001b[0m\u001b[0m\n\u001b[0m\u001b[1;32m   1255\u001b[0m         \u001b[0;32mreturn\u001b[0m \u001b[0mkeyarr\u001b[0m\u001b[0;34m,\u001b[0m \u001b[0mindexer\u001b[0m\u001b[0;34m\u001b[0m\u001b[0;34m\u001b[0m\u001b[0m\n\u001b[1;32m   1256\u001b[0m \u001b[0;34m\u001b[0m\u001b[0m\n",
      "\u001b[0;32m~/opt/anaconda3/envs/learn-env/lib/python3.8/site-packages/pandas/core/indexing.py\u001b[0m in \u001b[0;36m_validate_read_indexer\u001b[0;34m(self, key, indexer, axis, raise_missing)\u001b[0m\n\u001b[1;32m   1302\u001b[0m             \u001b[0;32mif\u001b[0m \u001b[0mraise_missing\u001b[0m\u001b[0;34m:\u001b[0m\u001b[0;34m\u001b[0m\u001b[0;34m\u001b[0m\u001b[0m\n\u001b[1;32m   1303\u001b[0m                 \u001b[0mnot_found\u001b[0m \u001b[0;34m=\u001b[0m \u001b[0mlist\u001b[0m\u001b[0;34m(\u001b[0m\u001b[0mset\u001b[0m\u001b[0;34m(\u001b[0m\u001b[0mkey\u001b[0m\u001b[0;34m)\u001b[0m \u001b[0;34m-\u001b[0m \u001b[0mset\u001b[0m\u001b[0;34m(\u001b[0m\u001b[0max\u001b[0m\u001b[0;34m)\u001b[0m\u001b[0;34m)\u001b[0m\u001b[0;34m\u001b[0m\u001b[0;34m\u001b[0m\u001b[0m\n\u001b[0;32m-> 1304\u001b[0;31m                 \u001b[0;32mraise\u001b[0m \u001b[0mKeyError\u001b[0m\u001b[0;34m(\u001b[0m\u001b[0;34mf\"{not_found} not in index\"\u001b[0m\u001b[0;34m)\u001b[0m\u001b[0;34m\u001b[0m\u001b[0;34m\u001b[0m\u001b[0m\n\u001b[0m\u001b[1;32m   1305\u001b[0m \u001b[0;34m\u001b[0m\u001b[0m\n\u001b[1;32m   1306\u001b[0m             \u001b[0;31m# we skip the warning on Categorical\u001b[0m\u001b[0;34m\u001b[0m\u001b[0;34m\u001b[0m\u001b[0;34m\u001b[0m\u001b[0m\n",
      "\u001b[0;31mKeyError\u001b[0m: \"['education', 'income_poverty', 'employment_status', 'age_group'] not in index\""
     ]
    }
   ],
   "source": [
    "#convert all object columns to dummies\n",
    "features = data\n",
    "features = pd.get_dummies(features,columns = ['employment_status','age_group','education','race','income_poverty'])\n",
    "\n",
    "\n",
    "#convert sex to binary, 0: male, 1:female\n",
    "features['sex'] = features['sex'].replace({'Female':1,'Male':0})\n",
    "features['sex'] = pd.to_numeric(features['sex'])\n",
    "#convert marital status to binary, 0: single, 1:married\n",
    "features['marital_status'] = features['marital_status'].replace({'Married':'1','Not Married':'0'})\n",
    "features['marital_status'] = features['marital_status'].astype(int,errors='ignore')\n",
    "\n",
    "\n",
    "# convert rent or own to binary: 0 rent, 1 own\n",
    "features['rent_or_own'] = features['rent_or_own'].replace({'Own':'1','Rent':'0'})\n",
    "features['rent_or_own'].astype(int,errors='ignore',copy=False)\n",
    "\n",
    "features = features.astype('float64')\n",
    "merge_df = features.merge(target,how='left',on='respondent_id')\n",
    "merge_df.dropna(inplace=True)\n",
    "merge_df.describe()\n",
    "\n",
    "#split back into X,y\n",
    "\n",
    "y = merge_df['h1n1_vaccine']\n",
    "X = merge_df.drop('h1n1_vaccine',axis=1,inplace=False) \n",
    "\n",
    "#train test split\n",
    "from sklearn.model_selection import train_test_split\n",
    "X_train,X_test,y_train,y_test = train_test_split(X,y,test_size=.25)\n",
    "\n",
    "#instantiate decisiontree classifier\n",
    "from sklearn.tree import DecisionTreeClassifier\n",
    "from sklearn.metrics import plot_confusion_matrix\n",
    "\n",
    "tree_clf = DecisionTreeClassifier(criterion='gini',max_depth=7,random_state =42 )\n",
    "tree_clf.fit(X_train,y_train)\n",
    "\n",
    "plot_confusion_matrix(tree_clf,X_test,y_test, normalize='true', display_labels=['Not Vaccinated', 'Vaccinated'])\n",
    "\n",
    "#training accuracy score\n",
    "print(\"Train accuracy score:\", tree_clf.score(X_train,y_train))\n",
    "\n",
    "#testing accuracy score\n",
    "print(\"Test accuracy score:\", tree_clf.score(X_test,y_test))\n",
    "print('score' + tree_clf.score())"
   ]
  },
  {
   "cell_type": "markdown",
   "metadata": {},
   "source": [
    "There is a good amount of false positives so we'll try adjusting the model a little bit \n",
    "\n",
    "We'll try a bagging the desician tree model"
   ]
  },
  {
   "cell_type": "code",
   "execution_count": 5,
   "metadata": {},
   "outputs": [
    {
     "name": "stdout",
     "output_type": "stream",
     "text": [
      "Train accuracy score: 0.846917641325536\n",
      "Test accuracy score: 0.8216374269005848\n",
      "accuracy: 0.8216374269005848\n",
      "              precision    recall  f1-score   support\n",
      "\n",
      "           0       0.85      0.93      0.89      4234\n",
      "           1       0.66      0.44      0.53      1238\n",
      "\n",
      "    accuracy                           0.82      5472\n",
      "   macro avg       0.75      0.69      0.71      5472\n",
      "weighted avg       0.81      0.82      0.81      5472\n",
      "\n"
     ]
    },
    {
     "data": {
      "image/png": "[encoded data removed]",
      "text/plain": [
       "<Figure size 432x288 with 2 Axes>"
      ]
     },
     "metadata": {
      "needs_background": "light"
     },
     "output_type": "display_data"
    }
   ],
   "source": [
    "#bagging model overview\n",
    "from sklearn.ensemble import BaggingClassifier\n",
    "#instantiate bagging on tree_clf model\n",
    "btc = BaggingClassifier(tree_clf,random_state =42 )\n",
    "#fit bagging classifier to train\n",
    "btc.fit(X_train,y_train)\n",
    "#training accuracy score\n",
    "print(\"Train accuracy score:\", btc.score(X_train,y_train))\n",
    "#testing accuracy score\n",
    "print(\"Test accuracy score:\",btc.score(X_test,y_test))\n",
    "#predict\n",
    "btc_pred = btc.predict(X_test)\n",
    "from sklearn.metrics import accuracy_score \n",
    "print(\"accuracy:\", accuracy_score(y_test,btc_pred, normalize='true'))\n",
    "plot_confusion_matrix(btc,X_test,y_test, normalize='true', display_labels=['Not Vaccinated', 'Vaccinated'])\n",
    "\n",
    "from sklearn.metrics import classification_report\n",
    "print(classification_report(y_test, btc_pred))"
   ]
  },
  {
   "cell_type": "markdown",
   "metadata": {},
   "source": [
    "The Bagging Classifier didn't really help our model it just slightly reduced the False Negatives but we're gona try something that will give use less False Negatives and ideally more True Positives. "
   ]
  },
  {
   "cell_type": "markdown",
   "metadata": {},
   "source": [
    "## Model Iterations\n",
    "\n",
    "The above Decision Tree and Bagging classification models didn't give us the results we wanted so lets try a different approach involving Logestic Regression and Pipelines.\n",
    "\n",
    "\n",
    "We set up a Machine learning Pipeline using SkLearn in order to easily run different models without changing too much code. \n",
    "\n",
    "The first step in the Pipeline is the Preprossessing stage when we convert categorical data into none ordinal numbers and we will also scale the numeric columns. The preprosessing step also deals with missing values. We will not be dealing with the modded dataframe from the previous model with the dummies collumns but instead untouched data. \n",
    "\n",
    "\n",
    "Instead of using dummies collumns for the categorical data we will use encoders from Sklearn and also scale the numerica columns because we are gona use Logestic Regression. We will also manually take the Odinal categorical columns and convert them to ordered integers. "
   ]
  },
  {
   "cell_type": "code",
   "execution_count": 6,
   "metadata": {},
   "outputs": [],
   "source": [
    "# code inspired from https://www.drivendata.co/blog/predict-flu-vaccine-data-benchmark/\n",
    "\n",
    "# new names for dataframe to avoid confusion and resusing data \n",
    "X_clean = data\n",
    "y_clean = target\n",
    "\n",
    "\n",
    "# create lists containing names of related columns for transformation \n",
    "num_cols = data.select_dtypes('number').columns\n",
    "ord_cols = ['age_group', 'education',  'income_poverty', 'employment_status']\n",
    "cat_cols = ['race', 'sex', 'marital_status', 'rent_or_own'] \n",
    "\n",
    "# transformer ordinal columns into ordinal categories\n",
    "\n",
    "age_group_dict = {\n",
    "np.NAN: -1, \n",
    "'18 - 34 Years': 1, \n",
    "'35 - 44 Years': 2, \n",
    "'45 - 54 Years': 3, \n",
    "'55 - 64 Years': 4, \n",
    "'65+ Years': 5}\n",
    "\n",
    "X_clean['age_group_ordinal'] = X_clean.age_group.map(age_group_dict).astype(\"category\")\n",
    "X_clean.drop(columns='age_group', inplace=True)\n",
    "\n",
    "education_dict = {\n",
    "    np.NAN: -1,\n",
    "    '< 12 Years': 1, \n",
    "    '12 Years': 2, \n",
    "    'Some College': 3, \n",
    "    'College Graduate': 4}\n",
    "\n",
    "X_clean['education_ordinal'] = X_clean.education.map(education_dict).astype(\"category\")\n",
    "X_clean.drop(columns='education', inplace=True)\n",
    "\n",
    "\n",
    "income_dict = {\n",
    "    np.NAN: -1,\n",
    "    'Below Poverty': 1, \n",
    "    '<= $75,000, Above Poverty': 2, \n",
    "    '> $75,000': 3}\n",
    "\n",
    "X_clean['income_poverty_ordinal'] = X_clean.income_poverty.map(income_dict).astype(\"category\")\n",
    "X_clean.drop(columns='income_poverty', inplace=True)\n",
    "\n",
    "employment_dict = { \n",
    "    np.NAN: -1,\n",
    "    'Unemployed': 1, \n",
    "    'Not in Labor Force': 2, \n",
    "    'Employed': 3}\n",
    "\n",
    "X_clean['employment_status_ordinal'] = X_clean.employment_status.map(employment_dict).astype(\"category\")\n",
    "X_clean.drop(columns='employment_status', inplace=True)\n",
    "\n",
    "\n",
    "# import neccessary libararies \n",
    "from sklearn.pipeline import Pipeline\n",
    "from sklearn.compose import ColumnTransformer\n",
    "from sklearn.impute import SimpleImputer\n",
    "from sklearn.preprocessing import OrdinalEncoder, OneHotEncoder, StandardScaler\n",
    "\n",
    "\n",
    "# first step on the Pipeline will be to deal with the categorical columns and scaling the numerical columns \n",
    "numeric_preprocessing_steps = Pipeline([\n",
    "    ('standard_scaler', StandardScaler()),\n",
    "    ('simple_imputer', SimpleImputer(strategy='median'))])\n",
    "\n",
    "cat_transformer = Pipeline(steps=[\n",
    "    ('cat_imputer', SimpleImputer(strategy='constant', fill_value='Unknown')),\n",
    "    ('ohe', OneHotEncoder(categories=\"auto\", handle_unknown='ignore'))])\n",
    "\n",
    "# create the preprocessor stage of final pipeline\n",
    "preprocessor = ColumnTransformer(\n",
    "    transformers = [\n",
    "        (\"numeric\", numeric_preprocessing_steps, num_cols), \n",
    "        ('cat', cat_transformer, cat_cols)], remainder = \"drop\")\n",
    "\n",
    "\n",
    "# The Next step in the Pipeline is the predictor. \n",
    "# We will use a Logistic Regression model to predict weather someone will get the H1N1 vaccine or not\n",
    "\n",
    "from sklearn.linear_model import LogisticRegression\n",
    "\n",
    "log_pipeline = Pipeline(steps=[('preprocessor', preprocessor), \n",
    "        (\"classifier\", LogisticRegression(random_state=52, class_weight='balanced'))])"
   ]
  },
  {
   "cell_type": "markdown",
   "metadata": {},
   "source": [
    "Because this Pipeline has alot of hyperparamters we can tweak to try to get a better model we'll set up a Gridsearch to find the best parametrics that results in the best score. Gridsearch will take the dictionary 'log_param' as the different hyperparamters we want to try. "
   ]
  },
  {
   "cell_type": "code",
   "execution_count": 7,
   "metadata": {},
   "outputs": [
    {
     "name": "stdout",
     "output_type": "stream",
     "text": [
      "Fitting 2 folds for each of 5120 candidates, totalling 10240 fits\n"
     ]
    },
    {
     "name": "stderr",
     "output_type": "stream",
     "text": [
      "[Parallel(n_jobs=-1)]: Using backend LokyBackend with 8 concurrent workers.\n",
      "[Parallel(n_jobs=-1)]: Done  16 tasks      | elapsed:    2.1s\n",
      "[Parallel(n_jobs=-1)]: Done 160 tasks      | elapsed:    5.5s\n",
      "[Parallel(n_jobs=-1)]: Done 480 tasks      | elapsed:   13.1s\n",
      "[Parallel(n_jobs=-1)]: Done 928 tasks      | elapsed:   26.9s\n",
      "[Parallel(n_jobs=-1)]: Done 1440 tasks      | elapsed:   43.0s\n",
      "[Parallel(n_jobs=-1)]: Done 1960 tasks      | elapsed:  1.1min\n",
      "[Parallel(n_jobs=-1)]: Done 2488 tasks      | elapsed:  1.5min\n",
      "[Parallel(n_jobs=-1)]: Done 3376 tasks      | elapsed:  2.0min\n",
      "[Parallel(n_jobs=-1)]: Done 4216 tasks      | elapsed:  2.6min\n",
      "[Parallel(n_jobs=-1)]: Done 5112 tasks      | elapsed:  3.4min\n",
      "[Parallel(n_jobs=-1)]: Done 6392 tasks      | elapsed:  4.1min\n",
      "[Parallel(n_jobs=-1)]: Done 7456 tasks      | elapsed:  5.1min\n",
      "[Parallel(n_jobs=-1)]: Done 8912 tasks      | elapsed:  6.1min\n",
      "[Parallel(n_jobs=-1)]: Done 10064 tasks      | elapsed:  7.2min\n",
      "[Parallel(n_jobs=-1)]: Done 10225 out of 10240 | elapsed:  7.5min remaining:    0.7s\n",
      "[Parallel(n_jobs=-1)]: Done 10240 out of 10240 | elapsed:  7.5min finished\n"
     ]
    },
    {
     "data": {
      "text/plain": [
       "GridSearchCV(cv=2,\n",
       "             estimator=Pipeline(steps=[('preprocessor',\n",
       "                                        ColumnTransformer(transformers=[('numeric',\n",
       "                                                                         Pipeline(steps=[('standard_scaler',\n",
       "                                                                                          StandardScaler()),\n",
       "                                                                                         ('simple_imputer',\n",
       "                                                                                          SimpleImputer(strategy='median'))]),\n",
       "                                                                         Index(['h1n1_concern', 'h1n1_knowledge', 'behavioral_antiviral_meds',\n",
       "       'behavioral_avoidance', 'behavioral_face_mask', 'behavioral_wash_hands',\n",
       "       'be...\n",
       "                         'classifier__max_iter': [50, 100, 1000, 10000],\n",
       "                         'classifier__multi_class': ['ovr', 'multinomial'],\n",
       "                         'classifier__penalty': ['l1', 'l2'],\n",
       "                         'classifier__solver': ['lbfgs', 'sag', 'saga',\n",
       "                                                'liblinear', 'newton-cg'],\n",
       "                         'preprocessor__cat__cat_imputer__strategy': ['mean',\n",
       "                                                                      'median',\n",
       "                                                                      'most_frequent',\n",
       "                                                                      'constant'],\n",
       "                         'preprocessor__numeric__simple_imputer__strategy': ['mean',\n",
       "                                                                             'median',\n",
       "                                                                             'most_frequent',\n",
       "                                                                             'constant']},\n",
       "             verbose=3)"
      ]
     },
     "execution_count": 7,
     "metadata": {},
     "output_type": "execute_result"
    }
   ],
   "source": [
    "# inprired by the code found at  https://towardsdatascience.com/ml-pipelines-with-grid-search-in-scikit-learn-2539d6b53cfb\n",
    "log_param = {\n",
    "        'preprocessor__numeric__simple_imputer__strategy': [\"mean\", \"median\", 'most_frequent', 'constant'], # Different ways to scale the numerical data.\n",
    "        'preprocessor__cat__cat_imputer__strategy': [\"mean\", \"median\", 'most_frequent', 'constant'], # Different ways to transform the categorical data.\n",
    "        'classifier__penalty': ['l1', 'l2'],                                # Method on how to deal with features with high Coefficient. \n",
    "        'classifier__C': [1.0, 2.0, 3.0, 5.0],                              # Setting regularization strength. \n",
    "        'classifier__max_iter': [50, 100, 1000, 10000],                     # Sets maximum number of itereations taken for solver to converge.\n",
    "        'classifier__multi_class': ['ovr', 'multinomial'],                  # Sets how to define target class\n",
    "        'classifier__solver': ['lbfgs', 'sag', 'saga', 'liblinear', 'newton-cg'] # Algorithm to use in the optimization problem\n",
    "}\n",
    "# we will now perform a train test split to make a terst set to run through the models\n",
    "X_train_pipe, X_true_pipe, y_train_pipe, y_true_pipe = train_test_split(X_clean, y_clean, test_size=0.25, shuffle=True, stratify=target, random_state=42)\n",
    "\n",
    "from sklearn.model_selection import GridSearchCV\n",
    "# Initialize a Grid_Search object and pass thru the pipeline we set up and adjust the params we declared to be tweaked \n",
    "grid_search = GridSearchCV(estimator=log_pipeline, param_grid=log_param, cv=2, verbose=3,n_jobs=-1)\n",
    "# fit the grid_search model with the training data set\n",
    "grid_search.fit(X_train_pipe, y_train_pipe)"
   ]
  },
  {
   "cell_type": "markdown",
   "metadata": {},
   "source": [
    "As you can see the GridSearch Pipeline tried fitting over 10,000 models with the params we choose to try. "
   ]
  },
  {
   "cell_type": "markdown",
   "metadata": {},
   "source": [
    "## Finding the Best Model\n",
    "\n",
    "With Grid Search we can easily get a configuration for the best Parametrics to use on our model. This saves us time because we can then take those parametrics and hard set it on a final model and perform our own evaluations. This way we don't have to recreate a bunch of models and evaluate each one. We will start evauluateing what the GridSearch has determined the best hyperparamterics. The important idea we are trying to achieve is to reduce the False Negatives. \n",
    "\n",
    "We will run a few evaluation metrics like ROC-AUC and plot another confusion matrix to see how many False Negatives showed up. If we find a model that significantly reduces the False Negatives we will go through more tests and evaluations. "
   ]
  },
  {
   "cell_type": "code",
   "execution_count": 95,
   "metadata": {},
   "outputs": [
    {
     "name": "stdout",
     "output_type": "stream",
     "text": [
      "Score: 0.7749375936095857\n"
     ]
    },
    {
     "data": {
      "text/plain": [
       "<sklearn.metrics._plot.confusion_matrix.ConfusionMatrixDisplay at 0x7faec8a12eb0>"
      ]
     },
     "execution_count": 95,
     "metadata": {},
     "output_type": "execute_result"
    },
    {
     "data": {
      "image/png": "[encoded data removed]",
      "text/plain": [
       "<Figure size 432x288 with 2 Axes>"
      ]
     },
     "metadata": {
      "needs_background": "light"
     },
     "output_type": "display_data"
    }
   ],
   "source": [
    "print('Score: ' + str(grid_search.best_score_))\n",
    "plot_confusion_matrix(grid_search ,X_true_pipe, y_true_pipe, normalize='true', display_labels=['Not Vaccinated', 'Vaccinated'], cmap='plasma')\n"
   ]
  },
  {
   "cell_type": "markdown",
   "metadata": {},
   "source": [
    "So with the best parameters coming from our GridSearchCV it is giving us a True Negative rate of 79% and a False Negative rate of 30% which is better than the 57% our baseline model gaves us so we are gona get those parameters and input them into a final Pipeline/ model. "
   ]
  },
  {
   "cell_type": "markdown",
   "metadata": {},
   "source": [
    "# Final Model\n",
    "\n",
    "We will take the best parametrics from our GridSearch and fit them to a final Logestic Reggression model. We will still use the ColumnTransformer on our data. We will print out the best parameters and manuals insert them into a final model. "
   ]
  },
  {
   "cell_type": "code",
   "execution_count": 96,
   "metadata": {},
   "outputs": [
    {
     "name": "stdout",
     "output_type": "stream",
     "text": [
      "{'classifier__C': 1.0, 'classifier__max_iter': 50, 'classifier__multi_class': 'ovr', 'classifier__penalty': 'l1', 'classifier__solver': 'saga', 'preprocessor__cat__cat_imputer__strategy': 'constant', 'preprocessor__numeric__simple_imputer__strategy': 'median'}\n"
     ]
    }
   ],
   "source": [
    "# Our final Pipeline will just be an edit of the last step in the previous Pipeline but with the best paramtrics added. \n",
    "best_param_setting = grid_search.cv_results_['params'][grid_search.best_index_]\n",
    "print(best_param_setting)"
   ]
  },
  {
   "cell_type": "code",
   "execution_count": 97,
   "metadata": {},
   "outputs": [],
   "source": [
    "best_numeric_preprocessing_steps = Pipeline([\n",
    "    ('standard_scaler', StandardScaler()),\n",
    "    ('simple_imputer', SimpleImputer(strategy='median'))])\n",
    "\n",
    "best_cat_transformer = Pipeline(steps=[\n",
    "    ('cat_imputer', SimpleImputer(strategy='constant', fill_value='Unknown')),\n",
    "    ('ohe', OneHotEncoder(categories=\"auto\", handle_unknown='ignore'))])\n",
    "\n",
    "best_preprocessor = ColumnTransformer(\n",
    "    transformers = [\n",
    "        (\"numeric\", numeric_preprocessing_steps, num_cols), \n",
    "        ('cat', cat_transformer, cat_cols)], remainder = \"drop\")\n",
    "\n",
    "\n",
    "# New instance of Logistic Regression with parameterics found from our best_score from GRidSearchCV\n",
    "best_log = LogisticRegression(C = 1.0, \n",
    "                              max_iter=100,                               \n",
    "                              multi_class = 'ovr',\n",
    "                              penalty = 'l1',\n",
    "                              solver =  'saga',\n",
    "                              random_state=42,)\n",
    "\n",
    "# making new data for final split and model\n",
    "X_final = best_preprocessor.fit_transform(X_clean)\n",
    "X_train_final, X_true_final, y_train_final, y_true_final = train_test_split(X_final, y_clean, test_size=0.25, shuffle=True, stratify=target, random_state=42)\n",
    "\n",
    "clf = best_log.fit(X_train_final, y_train_final)"
   ]
  },
  {
   "cell_type": "code",
   "execution_count": 98,
   "metadata": {},
   "outputs": [
    {
     "data": {
      "text/plain": [
       "LogisticRegression(multi_class='ovr', penalty='l1', random_state=42,\n",
       "                   solver='saga')"
      ]
     },
     "execution_count": 98,
     "metadata": {},
     "output_type": "execute_result"
    }
   ],
   "source": [
    "clf"
   ]
  },
  {
   "cell_type": "markdown",
   "metadata": {},
   "source": [
    "Lets do a quick evaluation to make sure everything lined up correctly "
   ]
  },
  {
   "cell_type": "code",
   "execution_count": 103,
   "metadata": {},
   "outputs": [
    {
     "data": {
      "text/plain": [
       "<sklearn.metrics._plot.confusion_matrix.ConfusionMatrixDisplay at 0x7faee83d7220>"
      ]
     },
     "execution_count": 103,
     "metadata": {},
     "output_type": "execute_result"
    },
    {
     "data": {
      "image/png": "[encoded data removed]",
      "text/plain": [
       "<Figure size 432x288 with 2 Axes>"
      ]
     },
     "metadata": {
      "needs_background": "light"
     },
     "output_type": "display_data"
    }
   ],
   "source": [
    "y_predic_final = clf.predict(X_train_final)\n",
    "#print('score : ' + str(clf.score(X_true_final, y_true_final))\n",
    "\n",
    "plot_confusion_matrix(clf ,X_true_final, y_true_final, normalize='true', cmap='plasma')\n"
   ]
  },
  {
   "cell_type": "markdown",
   "metadata": {},
   "source": [
    "## Evaluation of Final Model\n",
    "\n",
    "Our final model able to predict less False Negatives without losing too much True Negatives and True Positives and that was the goal for our final model so in the end we can say that Logistic Regression yeiled us with the best accuracy score. \n"
   ]
  },
  {
   "cell_type": "markdown",
   "metadata": {},
   "source": [
    "## Conclusions\n",
    "\n",
    "It is important then for the CDC to improve doctor outreach and regulations to make sure primary care physicians are encouraging their patients to get the COVID-19 vaccine, as this was singlehandedly the most important determiner of whether someone was vaccinated or not.\n",
    "\n",
    "Additionally, using our model, the CDC can determine populations with high likelihood of not getting vaccinated. There are high correlations between income,education, and race for vaccination, so our model can assist in finding where education resources can be best used to boost vaccination rate.\n",
    "\n",
    "Lastly, the CDC should invest in future surveying to understand the factors behind U.S. residents' concern about the COVID-19 pandemic and the vaccine effectiveness, as these were the most highly correlated factors to getting vaccinated besides a doctor reccomendation.\n"
   ]
  },
  {
   "cell_type": "code",
   "execution_count": null,
   "metadata": {},
   "outputs": [],
   "source": []
  }
 ],
 "metadata": {
  "interpreter": {
   "hash": "17cc554a2c16bc39ba98993395725f2ec0bd4b482a8c6c7a1f8b97bbfb728cd1"
  },
  "kernelspec": {
   "display_name": "Python 3",
   "language": "python",
   "name": "python3"
  },
  "language_info": {
   "codemirror_mode": {
    "name": "ipython",
    "version": 3
   },
   "file_extension": ".py",
   "mimetype": "text/x-python",
   "name": "python",
   "nbconvert_exporter": "python",
   "pygments_lexer": "ipython3",
   "version": "3.8.5"
  }
 },
 "nbformat": 4,
 "nbformat_minor": 4
}
