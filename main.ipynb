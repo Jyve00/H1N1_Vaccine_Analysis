{
 "cells": [
  {
   "cell_type": "markdown",
   "metadata": {},
   "source": [
    "# Project Title"
   ]
  },
  {
   "cell_type": "markdown",
   "metadata": {},
   "source": [
    "## Overview\n",
    "\n",
    "\n",
    "\n",
    "To find potential factors in vaccine hesistancy in the COVID-19 pandemic, we used a dataset of characteristics of people who either got the H1N1 or didn't. We tested different machine learning models on the dataset for prediction accuracy and ended up choosing a ____ model.  \n",
    "\n",
    "## Business Problem\n",
    "\n",
    "\n",
    "The CDC has hired us as data scientists to find lessons from the H1N1 pandemic. Early into the vaccine rollout, there has been massive public skepticism of the vaccine, slowing our ability to overcome the virus and re-open the country.\n",
    "\n",
    "We have received a large dataset from 2009, with statistical information and pandemic/H1N1 scaled opinions for each respondent. This data includes whether each person was vaccinated or not, which will allow us to predict who gets the vaccine.\n",
    "\n",
    "This model will allow the CDC to determine investments in public health awareness, surveying and modelling during the pandemic, based on the parameters which impact an individuals vaccine choice the most. \n",
    "\n"
   ]
  },
  {
   "cell_type": "markdown",
   "metadata": {},
   "source": [
    "## Data Understanding\n",
    "\n",
    "The dataset includes 26,000 respondents responses, and includes 34 different characteristics. They provide demographic information such as age, sex, race, income, and education and also include opinion and knowledge assessment on the risk of the H1N1 virus. \n",
    "\n",
    "The data can be found at https://www.drivendata.org/competitions/66/flu-shot-learning/ \n",
    "\n",
    "\n",
    "The target variable is the 'h1n1 vaccine' column. It is binary: 0 means the respondent didn't get the vaccine and 1 means they did. "
   ]
  },
  {
   "cell_type": "code",
   "execution_count": 2,
   "metadata": {},
   "outputs": [
    {
     "name": "stdout",
     "output_type": "stream",
     "text": [
      "<class 'pandas.core.frame.DataFrame'>\n",
      "Int64Index: 26707 entries, 0 to 26706\n",
      "Data columns (total 35 columns):\n",
      " #   Column                       Non-Null Count  Dtype  \n",
      "---  ------                       --------------  -----  \n",
      " 0   h1n1_concern                 26615 non-null  float64\n",
      " 1   h1n1_knowledge               26591 non-null  float64\n",
      " 2   behavioral_antiviral_meds    26636 non-null  float64\n",
      " 3   behavioral_avoidance         26499 non-null  float64\n",
      " 4   behavioral_face_mask         26688 non-null  float64\n",
      " 5   behavioral_wash_hands        26665 non-null  float64\n",
      " 6   behavioral_large_gatherings  26620 non-null  float64\n",
      " 7   behavioral_outside_home      26625 non-null  float64\n",
      " 8   behavioral_touch_face        26579 non-null  float64\n",
      " 9   doctor_recc_h1n1             24547 non-null  float64\n",
      " 10  doctor_recc_seasonal         24547 non-null  float64\n",
      " 11  chronic_med_condition        25736 non-null  float64\n",
      " 12  child_under_6_months         25887 non-null  float64\n",
      " 13  health_worker                25903 non-null  float64\n",
      " 14  health_insurance             14433 non-null  float64\n",
      " 15  opinion_h1n1_vacc_effective  26316 non-null  float64\n",
      " 16  opinion_h1n1_risk            26319 non-null  float64\n",
      " 17  opinion_h1n1_sick_from_vacc  26312 non-null  float64\n",
      " 18  opinion_seas_vacc_effective  26245 non-null  float64\n",
      " 19  opinion_seas_risk            26193 non-null  float64\n",
      " 20  opinion_seas_sick_from_vacc  26170 non-null  float64\n",
      " 21  age_group                    26707 non-null  object \n",
      " 22  education                    25300 non-null  object \n",
      " 23  race                         26707 non-null  object \n",
      " 24  sex                          26707 non-null  object \n",
      " 25  income_poverty               22284 non-null  object \n",
      " 26  marital_status               25299 non-null  object \n",
      " 27  rent_or_own                  24665 non-null  object \n",
      " 28  employment_status            25244 non-null  object \n",
      " 29  hhs_geo_region               26707 non-null  object \n",
      " 30  census_msa                   26707 non-null  object \n",
      " 31  household_adults             26458 non-null  float64\n",
      " 32  household_children           26458 non-null  float64\n",
      " 33  employment_industry          13377 non-null  object \n",
      " 34  employment_occupation        13237 non-null  object \n",
      "dtypes: float64(23), object(12)\n",
      "memory usage: 7.3+ MB\n"
     ]
    }
   ],
   "source": [
    "# We'll import the dataframe with Pandas. \n",
    "import pandas as pd\n",
    "\n",
    "data = pd.read_csv('../Data/training_set_features.csv', index_col='respondent_id')       # Included only columns we want to use as features for our model\n",
    "target = pd.read_csv('../Data/training_set_labels.csv', index_col='respondent_id')       # Target Columns\n",
    "holdout_set = pd.read_csv('../Data/test_set_features.csv', index_col='respondent_id')    # A data frame that will remain untouched in order to test final model \n",
    "\n",
    "# Take a quick look at\n",
    "data.info()"
   ]
  },
  {
   "cell_type": "markdown",
   "metadata": {},
   "source": [
    "## Data Preparation\n",
    "\n",
    "Describe and justify the process for preparing the data for analysis.\n",
    "\n",
    "As the dataset also includes information on whether the respondent got the seasonal flu vaccine and their scaled opinions on the seasonal vaccine, we decided to drop all data and focus on h1n1-related data for model simplicity.\n",
    "\n",
    "We then decided to drop the health insurance column as there were many null values, and in initial data modelling our model was much more accurate with it gone.\n",
    "\n",
    "The data left is a combination of ordinal (>2 non-continuous) and binary variables, both in string and number format. We converted all string data to integers, i.e. 'Male' and 'Female' in the 'sex' column converted to 0 and 1, respectively.\n",
    "\n",
    "For remaining missing values in columns, we filled in the mode of the dataset. \n",
    "\n",
    "Questions to consider:\n",
    "\n",
    "- Were there variables you dropped or created?\n",
    "- How did you address missing values or outliers?\n",
    "- Why are these choices appropriate given the data and the business problem?\n",
    "- Can you pipeline your preparation steps to use them consistently in the modeling process?"
   ]
  },
  {
   "cell_type": "code",
   "execution_count": 133,
   "metadata": {},
   "outputs": [
    {
     "data": {
      "text/plain": [
       "Text(0, 0.5, 'h1n1_vaccine')"
      ]
     },
     "execution_count": 133,
     "metadata": {},
     "output_type": "execute_result"
    },
    {
     "data": {
      "image/png": "[encoded data removed]",
      "text/plain": [
       "<Figure size 432x288 with 1 Axes>"
      ]
     },
     "metadata": {
      "needs_background": "light"
     },
     "output_type": "display_data"
    }
   ],
   "source": [
    "# Dropping all columns that are related to the seasonal flue target\n",
    "data.drop(columns=[\n",
    "    'hhs_geo_region',\n",
    "    'census_msa', \n",
    "    'employment_industry', \n",
    "    'employment_occupation', \n",
    "    'opinion_seas_vacc_effective', \n",
    "    'opinion_seas_risk', \n",
    "    'opinion_seas_sick_from_vacc', \n",
    "    'health_insurance', \n",
    "    'doctor_recc_seasonal'], inplace=True)\n",
    "\n",
    "# We only need the 'h1n1_vaccine' column as our target variable so we'll turn it into a panda series with just that column. \n",
    "target = pd.Series(target['h1n1_vaccine'])\n",
    "\n",
    "# Visualize the target variable\n",
    "import matplotlib.pyplot as plt\n",
    "fig, ax = plt.subplots()\n",
    "target.value_counts().plot.barh(title=\"Proportion of H1N1 Vaccine\", ax=ax)\n",
    "ax.set_ylabel(\"h1n1_vaccine\")\n",
    "\n"
   ]
  },
  {
   "cell_type": "code",
   "execution_count": 134,
   "metadata": {},
   "outputs": [
    {
     "data": {
      "text/plain": [
       "0    0.787546\n",
       "1    0.212454\n",
       "Name: h1n1_vaccine, dtype: float64"
      ]
     },
     "execution_count": 134,
     "metadata": {},
     "output_type": "execute_result"
    }
   ],
   "source": [
    "\n",
    "# inspect the values \n",
    "target.value_counts(normalize=True)"
   ]
  },
  {
   "cell_type": "markdown",
   "metadata": {},
   "source": [
    "'preprocessor__numeric__simple_imputer__strategy': ['mean', 'median', 'most_frequent', 'constant']"
   ]
  },
  {
   "cell_type": "markdown",
   "metadata": {},
   "source": [
    "## Baseline Model\n",
    "\n",
    "We examined how accurately a decision tree-based model would be able to determine if someone got vaccinated or not based on their characteristics.\n",
    "\n",
    "In this case we dropped rows with missing values and used pd.get_dummies to split up the ordinal variables with 3 or more values."
   ]
  },
  {
   "cell_type": "code",
   "execution_count": 174,
   "metadata": {},
   "outputs": [
    {
     "name": "stdout",
     "output_type": "stream",
     "text": [
      "Train accuracy score: 0.835343567251462\n",
      "Test accuracy score: 0.8263888888888888\n"
     ]
    },
    {
     "data": {
      "image/png": "[encoded data removed]",
      "text/plain": [
       "<Figure size 432x288 with 2 Axes>"
      ]
     },
     "metadata": {
      "needs_background": "light"
     },
     "output_type": "display_data"
    }
   ],
   "source": [
    "#convert all object columns to dummies\n",
    "features = data\n",
    "features = pd.get_dummies(features,columns = ['employment_status','age_group','education','race','income_poverty'])\n",
    "\n",
    "\n",
    "#convert sex to binary, 0: male, 1:female\n",
    "features['sex'] = features['sex'].replace({'Female':1,'Male':0})\n",
    "features['sex'] = pd.to_numeric(features['sex'])\n",
    "#convert marital status to binary, 0: single, 1:married\n",
    "features['marital_status'] = features['marital_status'].replace({'Married':'1','Not Married':'0'})\n",
    "features['marital_status'] = features['marital_status'].astype(int,errors='ignore')\n",
    "\n",
    "\n",
    "# convert rent or own to binary: 0 rent, 1 own\n",
    "features['rent_or_own'] = features['rent_or_own'].replace({'Own':'1','Rent':'0'})\n",
    "features['rent_or_own'].astype(int,errors='ignore',copy=False)\n",
    "\n",
    "features = features.astype('float64')\n",
    "merge_df = features.merge(target,how='left',on='respondent_id')\n",
    "merge_df.dropna(inplace=True)\n",
    "merge_df.describe()\n",
    "\n",
    "#split back into X,y\n",
    "\n",
    "y = merge_df['h1n1_vaccine']\n",
    "X = merge_df.drop('h1n1_vaccine',axis=1,inplace=False) \n",
    "\n",
    "#train test split\n",
    "from sklearn.model_selection import train_test_split\n",
    "X_train,X_test,y_train,y_test = train_test_split(X,y,test_size=.25)\n",
    "\n",
    "#instantiate decisiontree classifier\n",
    "from sklearn.tree import DecisionTreeClassifier\n",
    "from sklearn.metrics import plot_confusion_matrix\n",
    "\n",
    "tree_clf = DecisionTreeClassifier(criterion='gini',max_depth=7,random_state =42 )\n",
    "tree_clf.fit(X_train,y_train)\n",
    "\n",
    "plot_confusion_matrix(tree_clf,X_test,y_test, normalize='true')\n",
    "\n",
    "#training accuracy score\n",
    "print(\"Train accuracy score:\", tree_clf.score(X_train,y_train))\n",
    "\n",
    "#testing accuracy score\n",
    "print(\"Test accuracy score:\", tree_clf.score(X_test,y_test))\n",
    "\n"
   ]
  },
  {
   "cell_type": "markdown",
   "metadata": {},
   "source": []
  },
  {
   "cell_type": "markdown",
   "metadata": {},
   "source": [
    "There is a good amount of false positives so we'll try adjusting the model a little bit \n",
    "\n",
    "We'll try a bagging the desician tree model"
   ]
  },
  {
   "cell_type": "code",
   "execution_count": 194,
   "metadata": {},
   "outputs": [
    {
     "name": "stdout",
     "output_type": "stream",
     "text": [
      "Train accuracy score: 0.8454556530214425\n",
      "Test accuracy score: 0.8324195906432749\n",
      "accuracy: 0.8324195906432749\n",
      "              precision    recall  f1-score   support\n",
      "\n",
      "           0       0.86      0.94      0.90      4243\n",
      "           1       0.70      0.45      0.55      1229\n",
      "\n",
      "    accuracy                           0.83      5472\n",
      "   macro avg       0.78      0.70      0.72      5472\n",
      "weighted avg       0.82      0.83      0.82      5472\n",
      "\n"
     ]
    },
    {
     "data": {
      "image/png": "[encoded data removed]",
      "text/plain": [
       "<Figure size 432x288 with 2 Axes>"
      ]
     },
     "metadata": {
      "needs_background": "light"
     },
     "output_type": "display_data"
    }
   ],
   "source": [
    "#bagging model overview\n",
    "from sklearn.ensemble import BaggingClassifier\n",
    "#instantiate bagging on tree_clf model\n",
    "btc = BaggingClassifier(tree_clf,random_state =42 )\n",
    "#fit bagging classifier to train\n",
    "btc.fit(X_train,y_train)\n",
    "#training accuracy score\n",
    "print(\"Train accuracy score:\", btc.score(X_train,y_train))\n",
    "#testing accuracy score\n",
    "print(\"Test accuracy score:\",btc.score(X_test,y_test))\n",
    "#predict\n",
    "btc_pred = btc.predict(X_test)\n",
    "from sklearn.metrics import accuracy_score \n",
    "print(\"accuracy:\", accuracy_score(y_test,btc_pred, normalize='true'))\n",
    "plot_confusion_matrix(btc,X_test,y_test, normalize='true')\n",
    "\n",
    "\n",
    "print(classification_report(y_test, btc_pred))"
   ]
  },
  {
   "cell_type": "code",
   "execution_count": null,
   "metadata": {},
   "outputs": [],
   "source": []
  },
  {
   "cell_type": "markdown",
   "metadata": {},
   "source": [
    "## Final Model\n",
    "\n",
    "We set up a Machine learning Pipeline using SkLearn in order to easily run different models without changing too much code. \n",
    "\n",
    "The first step in the Pipeline is the Preprossessing stage when we convert categorical data into none ordinal numbers and we will also scale the numeric columns. The preprosessing step also deals with missing values. \n",
    "\n",
    "\n",
    "\n",
    "\n",
    "\n",
    "\n",
    "\n",
    "\n",
    "\n",
    "\n",
    "############\n",
    "Describe and justify the process for analyzing or modeling the data.\n",
    "\n",
    "Questions to consider:\n",
    "\n",
    "- How will you analyze the data to arrive at an initial approach?\n",
    "- How will you iterate on your initial approach to make it better?\n",
    "- What model type is most appropriate, given the data and the business problem?"
   ]
  },
  {
   "cell_type": "code",
   "execution_count": 137,
   "metadata": {},
   "outputs": [],
   "source": [
    "# code inspired from https://www.drivendata.co/blog/predict-flu-vaccine-data-benchmark/\n",
    "\n",
    "# create lists containing names of related columns for transformation \n",
    "num_cols = data.select_dtypes('number').columns\n",
    "ord_cols = ['age_group', 'education',  'income_poverty', 'employment_status']\n",
    "cat_cols = ['race', 'sex', 'marital_status', 'rent_or_own'] \n",
    "\n",
    "# import neccessary libararies \n",
    "from sklearn.pipeline import Pipeline\n",
    "from sklearn.compose import ColumnTransformer\n",
    "from sklearn.impute import SimpleImputer\n",
    "from sklearn.preprocessing import OrdinalEncoder, OneHotEncoder, StandardScaler\n",
    "# chain preprocessing into a Pipeline object\n",
    "# each step is a tuple of (name you chose, sklearn transformer)\n",
    "numeric_preprocessing_steps = Pipeline([\n",
    "    ('standard_scaler', StandardScaler()),\n",
    "    ('simple_imputer', SimpleImputer(strategy='median'))])\n",
    "\n",
    "cat_transformer = Pipeline(steps=[\n",
    "    ('cat_imputer', SimpleImputer(strategy='constant', fill_value='Unknown')),\n",
    "    ('ohe', OneHotEncoder(categories=\"auto\", handle_unknown='ignore'))])\n",
    "\n",
    "# create the preprocessor stage of final pipeline\n",
    "# each entry in the transformer list is a tuple of\n",
    "# (name you choose, sklearn transformer, list of columns)\n",
    "preprocessor = ColumnTransformer(\n",
    "    transformers = [\n",
    "        (\"numeric\", numeric_preprocessing_steps, num_cols), \n",
    "        ('cat', cat_transformer, cat_cols)], remainder = \"drop\")\n",
    "# The Next step in the Pipeline is the prediction. We will use a Logistic Regression model to predict weather someone will get the H1N1 vaccine or not\n",
    "\n",
    "from sklearn.linear_model import LogisticRegression\n",
    "\n",
    "log_pipeline = Pipeline(steps=[('preprocessor', preprocessor), \n",
    "        (\"classifier\", LogisticRegression(random_state=52, class_weight='balanced'))])"
   ]
  },
  {
   "cell_type": "markdown",
   "metadata": {},
   "source": [
    " because this Pipeline has alot of hyperparamters we can tweak to try to get a better model we'll set up a Gridsearch to find the best parametrics that results in the best score."
   ]
  },
  {
   "cell_type": "code",
   "execution_count": 140,
   "metadata": {},
   "outputs": [
    {
     "name": "stdout",
     "output_type": "stream",
     "text": [
      "Fitting 2 folds for each of 5120 candidates, totalling 10240 fits\n"
     ]
    },
    {
     "name": "stderr",
     "output_type": "stream",
     "text": [
      "[Parallel(n_jobs=-1)]: Using backend LokyBackend with 8 concurrent workers.\n",
      "[Parallel(n_jobs=-1)]: Done  16 tasks      | elapsed:    2.7s\n",
      "[Parallel(n_jobs=-1)]: Done 112 tasks      | elapsed:   18.7s\n",
      "[Parallel(n_jobs=-1)]: Done 272 tasks      | elapsed:   45.9s\n",
      "[Parallel(n_jobs=-1)]: Done 496 tasks      | elapsed:  1.5min\n",
      "[Parallel(n_jobs=-1)]: Done 784 tasks      | elapsed:  2.0min\n",
      "[Parallel(n_jobs=-1)]: Done 1136 tasks      | elapsed:  3.1min\n",
      "[Parallel(n_jobs=-1)]: Done 1552 tasks      | elapsed:  4.1min\n",
      "[Parallel(n_jobs=-1)]: Done 2032 tasks      | elapsed:  5.5min\n",
      "[Parallel(n_jobs=-1)]: Done 2576 tasks      | elapsed:  6.9min\n",
      "[Parallel(n_jobs=-1)]: Done 3184 tasks      | elapsed:  8.6min\n",
      "[Parallel(n_jobs=-1)]: Done 3856 tasks      | elapsed: 10.6min\n",
      "[Parallel(n_jobs=-1)]: Done 4592 tasks      | elapsed: 12.9min\n",
      "[Parallel(n_jobs=-1)]: Done 5392 tasks      | elapsed: 15.1min\n",
      "[Parallel(n_jobs=-1)]: Done 6256 tasks      | elapsed: 17.8min\n",
      "[Parallel(n_jobs=-1)]: Done 7184 tasks      | elapsed: 21.2min\n",
      "[Parallel(n_jobs=-1)]: Done 8176 tasks      | elapsed: 24.2min\n",
      "[Parallel(n_jobs=-1)]: Done 9232 tasks      | elapsed: 28.0min\n",
      "[Parallel(n_jobs=-1)]: Done 10240 out of 10240 | elapsed: 32.8min finished\n"
     ]
    },
    {
     "data": {
      "text/plain": [
       "GridSearchCV(cv=2,\n",
       "             estimator=Pipeline(steps=[('preprocessor',\n",
       "                                        ColumnTransformer(transformers=[('numeric',\n",
       "                                                                         Pipeline(steps=[('standard_scaler',\n",
       "                                                                                          StandardScaler()),\n",
       "                                                                                         ('simple_imputer',\n",
       "                                                                                          SimpleImputer(strategy='median'))]),\n",
       "                                                                         Index(['h1n1_concern', 'h1n1_knowledge', 'behavioral_antiviral_meds',\n",
       "       'behavioral_avoidance', 'behavioral_face_mask', 'behavioral_wash_hands',\n",
       "       'be...\n",
       "                         'classifier__max_iter': [50, 100, 1000, 10000],\n",
       "                         'classifier__multi_class': ['ovr', 'multinomial'],\n",
       "                         'classifier__penalty': ['l1', 'l2'],\n",
       "                         'classifier__solver': ['lbfgs', 'sag', 'saga',\n",
       "                                                'liblinear', 'newton-cg'],\n",
       "                         'preprocessor__cat__cat_imputer__strategy': ['mean',\n",
       "                                                                      'median',\n",
       "                                                                      'most_frequent',\n",
       "                                                                      'constant'],\n",
       "                         'preprocessor__numeric__simple_imputer__strategy': ['mean',\n",
       "                                                                             'median',\n",
       "                                                                             'most_frequent',\n",
       "                                                                             'constant']},\n",
       "             verbose=3)"
      ]
     },
     "execution_count": 140,
     "metadata": {},
     "output_type": "execute_result"
    }
   ],
   "source": [
    "# inprired by the code found at  https://towardsdatascience.com/ml-pipelines-with-grid-search-in-scikit-learn-2539d6b53cfb\n",
    "log_param = {\n",
    "        'preprocessor__numeric__simple_imputer__strategy': [\"mean\", \"median\", 'most_frequent', 'constant'],\n",
    "        'preprocessor__cat__cat_imputer__strategy': [\"mean\", \"median\", 'most_frequent', 'constant'], \n",
    "        'classifier__penalty': ['l1', 'l2'],                                            # Method on how to deal with features with high Coefficient. \n",
    "        'classifier__C': [1.0, 2.0, 3.0, 5.0],                                           # Setting regularization strength. \n",
    "        'classifier__max_iter': [50, 100, 1000, 10000],                                     # Sets maximum number of itereations taken for solver to converge.\n",
    "        'classifier__multi_class': ['ovr', 'multinomial'],                      # Sets how to define target class\n",
    "        'classifier__solver': ['lbfgs', 'sag', 'saga', 'liblinear', 'newton-cg']                                  # Algorithm to use in the optimization problem\n",
    "}\n",
    "# we will now perform a train test split to make a terst set to run through the models\n",
    "\n",
    "X_train_pipe, X_true_pipe, y_train_pipe, y_true_pipe = train_test_split(data, target, test_size=0.25, shuffle=True, stratify=target, random_state=42)\n",
    "\n",
    "from sklearn.model_selection import GridSearchCV\n",
    "\n",
    "# Initialize a Grid_Search object and pass thru the pipeline we set up and adjust the params we declared to be tweaked \n",
    "grid_search = GridSearchCV(estimator=log_pipeline, param_grid=log_param, cv=2, verbose=3,n_jobs=-1)\n",
    "# fit the grid_search model with the training data set\n",
    "grid_search.fit(X_train_pipe, y_train_pipe)\n",
    "\n",
    "#log_pipeline.fit(X_train_pipe, y_train_pipe)"
   ]
  },
  {
   "cell_type": "markdown",
   "metadata": {},
   "source": []
  },
  {
   "cell_type": "code",
   "execution_count": 143,
   "metadata": {},
   "outputs": [
    {
     "data": {
      "text/plain": [
       "(6677,)"
      ]
     },
     "execution_count": 143,
     "metadata": {},
     "output_type": "execute_result"
    }
   ],
   "source": [
    "pred = grid_search.predict(X_true_pipe)\n",
    "pred.shap"
   ]
  },
  {
   "cell_type": "code",
   "execution_count": 145,
   "metadata": {},
   "outputs": [
    {
     "data": {
      "text/plain": [
       "0.7433397908244653"
      ]
     },
     "execution_count": 145,
     "metadata": {},
     "output_type": "execute_result"
    }
   ],
   "source": [
    "from sklearn.metrics import roc_auc_score\n",
    "roc_auc_score(y_true_pipe, pred)\n"
   ]
  },
  {
   "cell_type": "code",
   "execution_count": 190,
   "metadata": {},
   "outputs": [
    {
     "data": {
      "text/plain": [
       "<sklearn.metrics._plot.confusion_matrix.ConfusionMatrixDisplay at 0x7faa609bffa0>"
      ]
     },
     "execution_count": 190,
     "metadata": {},
     "output_type": "execute_result"
    },
    {
     "data": {
      "image/png": "[encoded data removed]",
      "text/plain": [
       "<Figure size 432x288 with 2 Axes>"
      ]
     },
     "metadata": {
      "needs_background": "light"
     },
     "output_type": "display_data"
    }
   ],
   "source": [
    "plot_confusion_matrix(grid_search ,X_true_pipe,y_true_pipe, normalize='true', display_labels=['Not Vaccinated', 'Vaccinated'], cmap='plasma')"
   ]
  },
  {
   "cell_type": "code",
   "execution_count": 191,
   "metadata": {},
   "outputs": [
    {
     "data": {
      "text/plain": [
       "<sklearn.metrics._plot.confusion_matrix.ConfusionMatrixDisplay at 0x7faa609ebf70>"
      ]
     },
     "execution_count": 191,
     "metadata": {},
     "output_type": "execute_result"
    },
    {
     "data": {
      "image/png": "[encoded data removed]",
      "text/plain": [
       "<Figure size 432x288 with 2 Axes>"
      ]
     },
     "metadata": {
      "needs_background": "light"
     },
     "output_type": "display_data"
    }
   ],
   "source": [
    "plot_confusion_matrix(grid_search ,X_train_pipe,y_train_pipe, normalize='true', display_labels=['Not Vaccinated', 'Vaccinated'], cmap='plasma')"
   ]
  },
  {
   "cell_type": "code",
   "execution_count": 193,
   "metadata": {},
   "outputs": [
    {
     "name": "stdout",
     "output_type": "stream",
     "text": [
      "              precision    recall  f1-score   support\n",
      "\n",
      "           0       0.91      0.79      0.84      5258\n",
      "           1       0.47      0.70      0.56      1419\n",
      "\n",
      "    accuracy                           0.77      6677\n",
      "   macro avg       0.69      0.74      0.70      6677\n",
      "weighted avg       0.81      0.77      0.78      6677\n",
      "\n"
     ]
    }
   ],
   "source": [
    "from sklearn.metrics import classification_report\n",
    "print(classification_report(y_true_pipe, pred))"
   ]
  },
  {
   "cell_type": "code",
   "execution_count": 184,
   "metadata": {},
   "outputs": [],
   "source": [
    "best_param_setting = grid_search.cv_results_['params'][grid_search.best_index_]"
   ]
  },
  {
   "cell_type": "markdown",
   "metadata": {},
   "source": [
    "## Evaluation\n",
    "\n",
    "With Grid Search we can easily get a configuration for the best Parametrics to use on our model. \n",
    "\n",
    "\n",
    "\n",
    "\n",
    "\n",
    "\n",
    "////////////////////////////////////\n",
    "\n",
    "The evaluation of each model should accompany the creation of each model, and you should be sure to evaluate your models consistently.\n",
    "\n",
    "Evaluate how well your work solves the stated business problem. \n",
    "\n",
    "Questions to consider:\n",
    "\n",
    "- How do you interpret the results?\n",
    "- How well does your model fit your data? How much better is this than your baseline model? Is it over or under fit?\n",
    "- How well does your model/data fit any relevant modeling assumptions?\n",
    "\n",
    "For the final model, you might also consider:\n",
    "\n",
    "- How confident are you that your results would generalize beyond the data you have?\n",
    "- How confident are you that this model would benefit the business if put into use?\n",
    "- What does this final model tell you about the relationship between your inputs and outputs?"
   ]
  },
  {
   "cell_type": "markdown",
   "metadata": {},
   "source": [
    "### Baseline Understanding\n",
    "\n",
    "- What does a baseline, model-less prediction look like?\n",
    "\n",
    "From a baseline understanding, the data set target is skewed towards those who didn't get the vaccine, 79% of respondents. "
   ]
  },
  {
   "cell_type": "code",
   "execution_count": null,
   "metadata": {},
   "outputs": [],
   "source": [
    "# code here to arrive at a baseline prediction"
   ]
  },
  {
   "cell_type": "markdown",
   "metadata": {},
   "source": []
  },
  {
   "cell_type": "code",
   "execution_count": null,
   "metadata": {},
   "outputs": [],
   "source": [
    "# code here for your first 'substandard' model"
   ]
  },
  {
   "cell_type": "code",
   "execution_count": null,
   "metadata": {},
   "outputs": [],
   "source": [
    "# code here to evaluate your first 'substandard' model"
   ]
  },
  {
   "cell_type": "markdown",
   "metadata": {},
   "source": [
    "### Modeling Iterations\n",
    "\n",
    "Now you can start to use the results of your first model to iterate - there are many options!"
   ]
  },
  {
   "cell_type": "code",
   "execution_count": null,
   "metadata": {},
   "outputs": [],
   "source": [
    "# code here to iteratively improve your models"
   ]
  },
  {
   "cell_type": "code",
   "execution_count": null,
   "metadata": {},
   "outputs": [],
   "source": [
    "# code here to evaluate your iterations"
   ]
  },
  {
   "cell_type": "markdown",
   "metadata": {},
   "source": [
    "### 'Final' Model\n",
    "\n",
    "In the end, you'll arrive at a 'final' model - aka the one you'll use to make your recommendations/conclusions. This likely blends any group work. It might not be the one with the highest scores, but instead might be considered 'final' or 'best' for other reasons."
   ]
  },
  {
   "cell_type": "code",
   "execution_count": null,
   "metadata": {},
   "outputs": [],
   "source": [
    "# code here to show your final model"
   ]
  },
  {
   "cell_type": "code",
   "execution_count": null,
   "metadata": {},
   "outputs": [],
   "source": [
    "# code here to evaluate your final model"
   ]
  },
  {
   "cell_type": "markdown",
   "metadata": {},
   "source": [
    "## Conclusions\n",
    "\n",
    "Provide your conclusions about the work you've done, including any limitations or next steps.\n",
    "\n",
    "Questions to consider:\n",
    "\n",
    "- What would you recommend the business do as a result of this work?\n",
    "- How could the stakeholder use your model effectively?\n",
    "- What are some reasons why your analysis might not fully solve the business problem?\n",
    "- What else could you do in the future to improve this project (future work)?\n"
   ]
  }
 ],
 "metadata": {
  "interpreter": {
   "hash": "17cc554a2c16bc39ba98993395725f2ec0bd4b482a8c6c7a1f8b97bbfb728cd1"
  },
  "kernelspec": {
   "display_name": "Python 3.8.5 64-bit ('learn-env': conda)",
   "name": "python3"
  },
  "language_info": {
   "codemirror_mode": {
    "name": "ipython",
    "version": 3
   },
   "file_extension": ".py",
   "mimetype": "text/x-python",
   "name": "python",
   "nbconvert_exporter": "python",
   "pygments_lexer": "ipython3",
   "version": "3.8.5"
  }
 },
 "nbformat": 4,
 "nbformat_minor": 4
}
